{
 "cells": [
  {
   "cell_type": "markdown",
   "id": "3e11305d",
   "metadata": {},
   "source": [
    "# AutoEDA using SweetViz Library_HousePrice Data"
   ]
  },
  {
   "cell_type": "code",
   "execution_count": null,
   "id": "ed75f697",
   "metadata": {},
   "outputs": [],
   "source": [
    "# !pip install sweetviz"
   ]
  },
  {
   "cell_type": "code",
   "execution_count": 4,
   "id": "6f8f8eb7",
   "metadata": {},
   "outputs": [],
   "source": [
    "### importing required libraries\n",
    "\n",
    "import pandas as pd\n",
    "import numpy as np\n",
    "\n",
    "import sweetviz \n",
    "\n",
    "import warnings\n",
    "warnings.filterwarnings('ignore')"
   ]
  },
  {
   "cell_type": "code",
   "execution_count": 11,
   "id": "22a934fa",
   "metadata": {},
   "outputs": [],
   "source": [
    "### reading training dataset\n",
    "train = pd.read_csv(\"train.csv\")\n",
    "\n",
    "### reading testing dataset\n",
    "test = pd.read_csv(\"test.csv\")"
   ]
  },
  {
   "cell_type": "code",
   "execution_count": 12,
   "id": "168b2b3d",
   "metadata": {},
   "outputs": [
    {
     "data": {
      "application/vnd.jupyter.widget-view+json": {
       "model_id": "f3e106cb26d1452cad282df6c703ace7",
       "version_major": 2,
       "version_minor": 0
      },
      "text/plain": [
       "                                             |                                             | [  0%]   00:00 ->…"
      ]
     },
     "metadata": {},
     "output_type": "display_data"
    }
   ],
   "source": [
    "#Let’s analyze our dataset using Sweetviz Library : \n",
    "     \n",
    "    \n",
    "my_report = sweetviz.analyze([train, \"Train\"],target_feat='SalePrice')"
   ]
  },
  {
   "cell_type": "raw",
   "id": "6efd010a",
   "metadata": {},
   "source": [
    "Here “sweetviz.analyze()” is just a function that analyzes the data frame and we have to pass the target feature as a parameter. Remember the parameters should be in form of a list. You can check out the documentation and play with different parameters."
   ]
  },
  {
   "cell_type": "markdown",
   "id": "bda4c35e",
   "metadata": {},
   "source": [
    "### Let’s check the whole report : "
   ]
  },
  {
   "cell_type": "code",
   "execution_count": 13,
   "id": "19c06623",
   "metadata": {},
   "outputs": [
    {
     "name": "stdout",
     "output_type": "stream",
     "text": [
      "Report Report_train.html was generated! NOTEBOOK/COLAB USERS: the web browser MAY not pop up, regardless, the report IS saved in your notebook/colab files.\n"
     ]
    }
   ],
   "source": [
    "### create a whole report in form of HTML file\n",
    "my_report.show_html('Report_train.html')"
   ]
  },
  {
   "cell_type": "markdown",
   "id": "e103c46c",
   "metadata": {},
   "source": [
    "  "
   ]
  },
  {
   "cell_type": "markdown",
   "id": "d77c65a3",
   "metadata": {},
   "source": [
    "### Let’s compare the Training and Testing dataset using Sweetviz"
   ]
  },
  {
   "cell_type": "code",
   "execution_count": 14,
   "id": "aa6ddeab",
   "metadata": {},
   "outputs": [
    {
     "data": {
      "application/vnd.jupyter.widget-view+json": {
       "model_id": "f78c1ec50a524442a395df188bdf0473",
       "version_major": 2,
       "version_minor": 0
      },
      "text/plain": [
       "                                             |                                             | [  0%]   00:00 ->…"
      ]
     },
     "metadata": {},
     "output_type": "display_data"
    },
    {
     "name": "stdout",
     "output_type": "stream",
     "text": [
      "Report Report2.html was generated! NOTEBOOK/COLAB USERS: the web browser MAY not pop up, regardless, the report IS saved in your notebook/colab files.\n"
     ]
    }
   ],
   "source": [
    "### in case of testing data pass seperate list for testing data as parameter\n",
    "\n",
    "my_report = sweetviz.compare([train, \"Train\"], [test, \"Test\"], \"SalePrice\")\n",
    "\n",
    "my_report.show_html('Report2.html')"
   ]
  },
  {
   "cell_type": "markdown",
   "id": "817d42b6",
   "metadata": {},
   "source": [
    "### Conclusion "
   ]
  },
  {
   "cell_type": "raw",
   "id": "6d71295d",
   "metadata": {},
   "source": [
    "It easily gives us a significant jump-start when you start looking at a new dataset. It’s worth pointing out I also find it useful later in the analysis process, for example during feature generation, to get a quick overview of how new features play out."
   ]
  }
 ],
 "metadata": {
  "kernelspec": {
   "display_name": "Python 3 (ipykernel)",
   "language": "python",
   "name": "python3"
  },
  "language_info": {
   "codemirror_mode": {
    "name": "ipython",
    "version": 3
   },
   "file_extension": ".py",
   "mimetype": "text/x-python",
   "name": "python",
   "nbconvert_exporter": "python",
   "pygments_lexer": "ipython3",
   "version": "3.9.15"
  }
 },
 "nbformat": 4,
 "nbformat_minor": 5
}
